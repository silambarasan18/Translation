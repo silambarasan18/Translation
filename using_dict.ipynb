{
 "cells": [
  {
   "cell_type": "code",
   "execution_count": 1,
   "metadata": {},
   "outputs": [],
   "source": [
    "#TRANSLATE\n",
    "import time\n",
    "import pandas as pd\n",
    "import numpy as np\n",
    "import re"
   ]
  },
  {
   "cell_type": "code",
   "execution_count": 4,
   "metadata": {},
   "outputs": [],
   "source": [
    "#Time processed from here\n",
    "startTime = time.time()\n",
    "#convert csv file to data frame and to dict\n",
    "#and store it to english_french\n",
    "english_french = pd.read_csv(\"french_dictionary.csv\", header=None, index_col=0, squeeze=True).to_dict()\n",
    "\n",
    "#interchange the english word with french word key value\n",
    "with open(r\"t8_shakespeare.txt\",\"r\") as infile,\\\n",
    "    open('t8.shakespeare.translate.txt','w') as outfile:\n",
    "    RepCountFile = open('frequency.csv','w')\n",
    "    s = infile.read()\n",
    "    for key in english_french: \n",
    "        reg_pat=r'(?i)\\b'+key+r'\\b'\n",
    "        s = re.sub(reg_pat,english_french[key],s,flags=re.DOTALL)\n",
    "        occur = s.count(english_french[key])\n",
    "        RepCountFile.write(key + \",\"+ english_french[key]+ \",\" + str(occur) + '\\n')\n",
    "    outfile.write(s)\n",
    "    \n",
    "   # outfile is the one written in t8.shakespeare.translate.txt"
   ]
  },
  {
   "cell_type": "code",
   "execution_count": 3,
   "metadata": {},
   "outputs": [],
   "source": [
    " #Time stop here\n",
    "time.sleep(1)\n",
    "end_time = time.time()\n",
    "totalTime = end_time-startTime\n",
    "#Memory taken\n",
    "import os, psutil\n",
    "process = psutil.Process(os.getpid())\n",
    "mem = (process.memory_info().rss / 1024 ** 2)\n",
    "#file performance.txt created to store Time taken and Memory used\n",
    "with open ('perfomance.txt','w') as perfomance:\n",
    "    perfomance.writelines('Time to process = '+str(totalTime)+' Seconds'+'\\n')\n",
    "    perfomance.writelines('Memory used = '+str(mem)+' MB')"
   ]
  }
 ],
 "metadata": {
  "interpreter": {
   "hash": "7eff99cc07485577c00029e32ce0a5efdcd4771aa2ef0bfbf5206d940da7eeea"
  },
  "kernelspec": {
   "display_name": "Python 3 (ipykernel)",
   "language": "python",
   "name": "python3"
  },
  "language_info": {
   "codemirror_mode": {
    "name": "ipython",
    "version": 3
   },
   "file_extension": ".py",
   "mimetype": "text/x-python",
   "name": "python",
   "nbconvert_exporter": "python",
   "pygments_lexer": "ipython3",
   "version": "3.9.6"
  }
 },
 "nbformat": 4,
 "nbformat_minor": 2
}
